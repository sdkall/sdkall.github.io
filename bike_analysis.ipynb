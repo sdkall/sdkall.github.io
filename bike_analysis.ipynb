{
 "cells": [
  {
   "cell_type": "markdown",
   "id": "a2b1fe4d",
   "metadata": {},
   "source": [
    "## Importing libraries"
   ]
  },
  {
   "cell_type": "code",
   "execution_count": 98,
   "id": "edca3baa",
   "metadata": {},
   "outputs": [],
   "source": [
    "import pandas as pd\n",
    "import matplotlib.pyplot as plt\n",
    "import seaborn as sns\n",
    "from scipy.stats import pearsonr, spearmanr"
   ]
  },
  {
   "cell_type": "code",
   "execution_count": 5,
   "id": "a4690c51",
   "metadata": {},
   "outputs": [],
   "source": [
    "import warnings as warn\n",
    "warn.filterwarnings('ignore')"
   ]
  },
  {
   "cell_type": "markdown",
   "id": "0979888a",
   "metadata": {},
   "source": [
    "## Loading data"
   ]
  },
  {
   "cell_type": "code",
   "execution_count": 17,
   "id": "cbbc5071",
   "metadata": {},
   "outputs": [],
   "source": [
    "bike = pd.read_csv('bike.csv')"
   ]
  },
  {
   "cell_type": "code",
   "execution_count": 18,
   "id": "6abbdc8d",
   "metadata": {},
   "outputs": [
    {
     "data": {
      "text/html": [
       "<div>\n",
       "<style scoped>\n",
       "    .dataframe tbody tr th:only-of-type {\n",
       "        vertical-align: middle;\n",
       "    }\n",
       "\n",
       "    .dataframe tbody tr th {\n",
       "        vertical-align: top;\n",
       "    }\n",
       "\n",
       "    .dataframe thead th {\n",
       "        text-align: right;\n",
       "    }\n",
       "</style>\n",
       "<table border=\"1\" class=\"dataframe\">\n",
       "  <thead>\n",
       "    <tr style=\"text-align: right;\">\n",
       "      <th></th>\n",
       "      <th>datetime</th>\n",
       "      <th>Unnamed: 1</th>\n",
       "      <th>season</th>\n",
       "      <th>holiday</th>\n",
       "      <th>workingday</th>\n",
       "      <th>weather</th>\n",
       "      <th>temp</th>\n",
       "      <th>atemp</th>\n",
       "      <th>humidity</th>\n",
       "      <th>windspeed</th>\n",
       "      <th>casual</th>\n",
       "      <th>registered</th>\n",
       "      <th>count</th>\n",
       "    </tr>\n",
       "  </thead>\n",
       "  <tbody>\n",
       "    <tr>\n",
       "      <th>0</th>\n",
       "      <td>1/1/2011 0:00</td>\n",
       "      <td>NaN</td>\n",
       "      <td>1</td>\n",
       "      <td>0</td>\n",
       "      <td>0</td>\n",
       "      <td>1</td>\n",
       "      <td>9.84</td>\n",
       "      <td>14.395</td>\n",
       "      <td>81</td>\n",
       "      <td>0.0</td>\n",
       "      <td>3</td>\n",
       "      <td>13</td>\n",
       "      <td>16</td>\n",
       "    </tr>\n",
       "    <tr>\n",
       "      <th>1</th>\n",
       "      <td>1/1/2011 1:00</td>\n",
       "      <td>NaN</td>\n",
       "      <td>1</td>\n",
       "      <td>0</td>\n",
       "      <td>0</td>\n",
       "      <td>1</td>\n",
       "      <td>9.02</td>\n",
       "      <td>13.635</td>\n",
       "      <td>80</td>\n",
       "      <td>0.0</td>\n",
       "      <td>8</td>\n",
       "      <td>32</td>\n",
       "      <td>40</td>\n",
       "    </tr>\n",
       "    <tr>\n",
       "      <th>2</th>\n",
       "      <td>1/1/2011 2:00</td>\n",
       "      <td>NaN</td>\n",
       "      <td>1</td>\n",
       "      <td>0</td>\n",
       "      <td>0</td>\n",
       "      <td>1</td>\n",
       "      <td>9.02</td>\n",
       "      <td>13.635</td>\n",
       "      <td>80</td>\n",
       "      <td>0.0</td>\n",
       "      <td>5</td>\n",
       "      <td>27</td>\n",
       "      <td>32</td>\n",
       "    </tr>\n",
       "    <tr>\n",
       "      <th>3</th>\n",
       "      <td>1/1/2011 3:00</td>\n",
       "      <td>NaN</td>\n",
       "      <td>1</td>\n",
       "      <td>0</td>\n",
       "      <td>0</td>\n",
       "      <td>1</td>\n",
       "      <td>9.84</td>\n",
       "      <td>14.395</td>\n",
       "      <td>75</td>\n",
       "      <td>0.0</td>\n",
       "      <td>3</td>\n",
       "      <td>10</td>\n",
       "      <td>13</td>\n",
       "    </tr>\n",
       "    <tr>\n",
       "      <th>4</th>\n",
       "      <td>1/1/2011 4:00</td>\n",
       "      <td>NaN</td>\n",
       "      <td>1</td>\n",
       "      <td>0</td>\n",
       "      <td>0</td>\n",
       "      <td>1</td>\n",
       "      <td>9.84</td>\n",
       "      <td>14.395</td>\n",
       "      <td>75</td>\n",
       "      <td>0.0</td>\n",
       "      <td>0</td>\n",
       "      <td>1</td>\n",
       "      <td>1</td>\n",
       "    </tr>\n",
       "  </tbody>\n",
       "</table>\n",
       "</div>"
      ],
      "text/plain": [
       "        datetime  Unnamed: 1  season  holiday  workingday  weather  temp  \\\n",
       "0  1/1/2011 0:00         NaN       1        0           0        1  9.84   \n",
       "1  1/1/2011 1:00         NaN       1        0           0        1  9.02   \n",
       "2  1/1/2011 2:00         NaN       1        0           0        1  9.02   \n",
       "3  1/1/2011 3:00         NaN       1        0           0        1  9.84   \n",
       "4  1/1/2011 4:00         NaN       1        0           0        1  9.84   \n",
       "\n",
       "    atemp  humidity  windspeed  casual  registered  count  \n",
       "0  14.395        81        0.0       3          13     16  \n",
       "1  13.635        80        0.0       8          32     40  \n",
       "2  13.635        80        0.0       5          27     32  \n",
       "3  14.395        75        0.0       3          10     13  \n",
       "4  14.395        75        0.0       0           1      1  "
      ]
     },
     "execution_count": 18,
     "metadata": {},
     "output_type": "execute_result"
    }
   ],
   "source": [
    "bike.head()"
   ]
  },
  {
   "cell_type": "code",
   "execution_count": 19,
   "id": "1bdc8ce7",
   "metadata": {},
   "outputs": [],
   "source": [
    "bike=bike.drop('Unnamed: 1',axis=1)"
   ]
  },
  {
   "cell_type": "code",
   "execution_count": 20,
   "id": "90762e64",
   "metadata": {},
   "outputs": [
    {
     "data": {
      "text/html": [
       "<div>\n",
       "<style scoped>\n",
       "    .dataframe tbody tr th:only-of-type {\n",
       "        vertical-align: middle;\n",
       "    }\n",
       "\n",
       "    .dataframe tbody tr th {\n",
       "        vertical-align: top;\n",
       "    }\n",
       "\n",
       "    .dataframe thead th {\n",
       "        text-align: right;\n",
       "    }\n",
       "</style>\n",
       "<table border=\"1\" class=\"dataframe\">\n",
       "  <thead>\n",
       "    <tr style=\"text-align: right;\">\n",
       "      <th></th>\n",
       "      <th>datetime</th>\n",
       "      <th>season</th>\n",
       "      <th>holiday</th>\n",
       "      <th>workingday</th>\n",
       "      <th>weather</th>\n",
       "      <th>temp</th>\n",
       "      <th>atemp</th>\n",
       "      <th>humidity</th>\n",
       "      <th>windspeed</th>\n",
       "      <th>casual</th>\n",
       "      <th>registered</th>\n",
       "      <th>count</th>\n",
       "    </tr>\n",
       "  </thead>\n",
       "  <tbody>\n",
       "    <tr>\n",
       "      <th>0</th>\n",
       "      <td>1/1/2011 0:00</td>\n",
       "      <td>1</td>\n",
       "      <td>0</td>\n",
       "      <td>0</td>\n",
       "      <td>1</td>\n",
       "      <td>9.84</td>\n",
       "      <td>14.395</td>\n",
       "      <td>81</td>\n",
       "      <td>0.0</td>\n",
       "      <td>3</td>\n",
       "      <td>13</td>\n",
       "      <td>16</td>\n",
       "    </tr>\n",
       "    <tr>\n",
       "      <th>1</th>\n",
       "      <td>1/1/2011 1:00</td>\n",
       "      <td>1</td>\n",
       "      <td>0</td>\n",
       "      <td>0</td>\n",
       "      <td>1</td>\n",
       "      <td>9.02</td>\n",
       "      <td>13.635</td>\n",
       "      <td>80</td>\n",
       "      <td>0.0</td>\n",
       "      <td>8</td>\n",
       "      <td>32</td>\n",
       "      <td>40</td>\n",
       "    </tr>\n",
       "    <tr>\n",
       "      <th>2</th>\n",
       "      <td>1/1/2011 2:00</td>\n",
       "      <td>1</td>\n",
       "      <td>0</td>\n",
       "      <td>0</td>\n",
       "      <td>1</td>\n",
       "      <td>9.02</td>\n",
       "      <td>13.635</td>\n",
       "      <td>80</td>\n",
       "      <td>0.0</td>\n",
       "      <td>5</td>\n",
       "      <td>27</td>\n",
       "      <td>32</td>\n",
       "    </tr>\n",
       "    <tr>\n",
       "      <th>3</th>\n",
       "      <td>1/1/2011 3:00</td>\n",
       "      <td>1</td>\n",
       "      <td>0</td>\n",
       "      <td>0</td>\n",
       "      <td>1</td>\n",
       "      <td>9.84</td>\n",
       "      <td>14.395</td>\n",
       "      <td>75</td>\n",
       "      <td>0.0</td>\n",
       "      <td>3</td>\n",
       "      <td>10</td>\n",
       "      <td>13</td>\n",
       "    </tr>\n",
       "    <tr>\n",
       "      <th>4</th>\n",
       "      <td>1/1/2011 4:00</td>\n",
       "      <td>1</td>\n",
       "      <td>0</td>\n",
       "      <td>0</td>\n",
       "      <td>1</td>\n",
       "      <td>9.84</td>\n",
       "      <td>14.395</td>\n",
       "      <td>75</td>\n",
       "      <td>0.0</td>\n",
       "      <td>0</td>\n",
       "      <td>1</td>\n",
       "      <td>1</td>\n",
       "    </tr>\n",
       "  </tbody>\n",
       "</table>\n",
       "</div>"
      ],
      "text/plain": [
       "        datetime  season  holiday  workingday  weather  temp   atemp  \\\n",
       "0  1/1/2011 0:00       1        0           0        1  9.84  14.395   \n",
       "1  1/1/2011 1:00       1        0           0        1  9.02  13.635   \n",
       "2  1/1/2011 2:00       1        0           0        1  9.02  13.635   \n",
       "3  1/1/2011 3:00       1        0           0        1  9.84  14.395   \n",
       "4  1/1/2011 4:00       1        0           0        1  9.84  14.395   \n",
       "\n",
       "   humidity  windspeed  casual  registered  count  \n",
       "0        81        0.0       3          13     16  \n",
       "1        80        0.0       8          32     40  \n",
       "2        80        0.0       5          27     32  \n",
       "3        75        0.0       3          10     13  \n",
       "4        75        0.0       0           1      1  "
      ]
     },
     "execution_count": 20,
     "metadata": {},
     "output_type": "execute_result"
    }
   ],
   "source": [
    "bike.head()"
   ]
  },
  {
   "cell_type": "markdown",
   "id": "731d56ba",
   "metadata": {},
   "source": [
    "## prepare the data by creating a month and year column and total riders columns"
   ]
  },
  {
   "cell_type": "code",
   "execution_count": 33,
   "id": "8d30fed1",
   "metadata": {},
   "outputs": [],
   "source": [
    "bike['datetime'] = pd.to_datetime(bike['datetime'])"
   ]
  },
  {
   "cell_type": "code",
   "execution_count": 34,
   "id": "cb9d14b4",
   "metadata": {},
   "outputs": [],
   "source": [
    "bike['month'] = bike['datetime'].dt.strftime('%B')"
   ]
  },
  {
   "cell_type": "code",
   "execution_count": 35,
   "id": "4755fe85",
   "metadata": {},
   "outputs": [
    {
     "data": {
      "text/html": [
       "<div>\n",
       "<style scoped>\n",
       "    .dataframe tbody tr th:only-of-type {\n",
       "        vertical-align: middle;\n",
       "    }\n",
       "\n",
       "    .dataframe tbody tr th {\n",
       "        vertical-align: top;\n",
       "    }\n",
       "\n",
       "    .dataframe thead th {\n",
       "        text-align: right;\n",
       "    }\n",
       "</style>\n",
       "<table border=\"1\" class=\"dataframe\">\n",
       "  <thead>\n",
       "    <tr style=\"text-align: right;\">\n",
       "      <th></th>\n",
       "      <th>datetime</th>\n",
       "      <th>season</th>\n",
       "      <th>holiday</th>\n",
       "      <th>workingday</th>\n",
       "      <th>weather</th>\n",
       "      <th>temp</th>\n",
       "      <th>atemp</th>\n",
       "      <th>humidity</th>\n",
       "      <th>windspeed</th>\n",
       "      <th>casual</th>\n",
       "      <th>registered</th>\n",
       "      <th>count</th>\n",
       "      <th>month</th>\n",
       "    </tr>\n",
       "  </thead>\n",
       "  <tbody>\n",
       "    <tr>\n",
       "      <th>0</th>\n",
       "      <td>2011-01-01 00:00:00</td>\n",
       "      <td>1</td>\n",
       "      <td>0</td>\n",
       "      <td>0</td>\n",
       "      <td>1</td>\n",
       "      <td>9.84</td>\n",
       "      <td>14.395</td>\n",
       "      <td>81</td>\n",
       "      <td>0.0</td>\n",
       "      <td>3</td>\n",
       "      <td>13</td>\n",
       "      <td>16</td>\n",
       "      <td>January</td>\n",
       "    </tr>\n",
       "    <tr>\n",
       "      <th>1</th>\n",
       "      <td>2011-01-01 01:00:00</td>\n",
       "      <td>1</td>\n",
       "      <td>0</td>\n",
       "      <td>0</td>\n",
       "      <td>1</td>\n",
       "      <td>9.02</td>\n",
       "      <td>13.635</td>\n",
       "      <td>80</td>\n",
       "      <td>0.0</td>\n",
       "      <td>8</td>\n",
       "      <td>32</td>\n",
       "      <td>40</td>\n",
       "      <td>January</td>\n",
       "    </tr>\n",
       "  </tbody>\n",
       "</table>\n",
       "</div>"
      ],
      "text/plain": [
       "             datetime  season  holiday  workingday  weather  temp   atemp  \\\n",
       "0 2011-01-01 00:00:00       1        0           0        1  9.84  14.395   \n",
       "1 2011-01-01 01:00:00       1        0           0        1  9.02  13.635   \n",
       "\n",
       "   humidity  windspeed  casual  registered  count    month  \n",
       "0        81        0.0       3          13     16  January  \n",
       "1        80        0.0       8          32     40  January  "
      ]
     },
     "execution_count": 35,
     "metadata": {},
     "output_type": "execute_result"
    }
   ],
   "source": [
    "bike.head(2)"
   ]
  },
  {
   "cell_type": "code",
   "execution_count": 62,
   "id": "f5b1705b",
   "metadata": {},
   "outputs": [],
   "source": [
    "bike['year'] = bike['datetime'].dt.year"
   ]
  },
  {
   "cell_type": "code",
   "execution_count": 38,
   "id": "f4f8d9cc",
   "metadata": {},
   "outputs": [],
   "source": [
    "bike['month_num'] = bike['datetime'].dt.month"
   ]
  },
  {
   "cell_type": "code",
   "execution_count": 39,
   "id": "e85a9e87",
   "metadata": {},
   "outputs": [],
   "source": [
    "bike['day_num'] = bike['datetime'].dt.dayofweek"
   ]
  },
  {
   "cell_type": "code",
   "execution_count": 40,
   "id": "cca4aa17",
   "metadata": {},
   "outputs": [],
   "source": [
    "bike['day_of_week'] = bike['datetime'].dt.strftime('%A')"
   ]
  },
  {
   "cell_type": "code",
   "execution_count": 41,
   "id": "3fc3a6f1",
   "metadata": {},
   "outputs": [],
   "source": [
    "bike['total_riders'] = bike.casual + bike.registered"
   ]
  },
  {
   "cell_type": "code",
   "execution_count": 42,
   "id": "3a3794b7",
   "metadata": {},
   "outputs": [
    {
     "data": {
      "text/html": [
       "<div>\n",
       "<style scoped>\n",
       "    .dataframe tbody tr th:only-of-type {\n",
       "        vertical-align: middle;\n",
       "    }\n",
       "\n",
       "    .dataframe tbody tr th {\n",
       "        vertical-align: top;\n",
       "    }\n",
       "\n",
       "    .dataframe thead th {\n",
       "        text-align: right;\n",
       "    }\n",
       "</style>\n",
       "<table border=\"1\" class=\"dataframe\">\n",
       "  <thead>\n",
       "    <tr style=\"text-align: right;\">\n",
       "      <th></th>\n",
       "      <th>datetime</th>\n",
       "      <th>season</th>\n",
       "      <th>holiday</th>\n",
       "      <th>workingday</th>\n",
       "      <th>weather</th>\n",
       "      <th>temp</th>\n",
       "      <th>atemp</th>\n",
       "      <th>humidity</th>\n",
       "      <th>windspeed</th>\n",
       "      <th>casual</th>\n",
       "      <th>registered</th>\n",
       "      <th>count</th>\n",
       "      <th>month</th>\n",
       "      <th>month_num</th>\n",
       "      <th>day_num</th>\n",
       "      <th>day_of_week</th>\n",
       "      <th>total_riders</th>\n",
       "    </tr>\n",
       "  </thead>\n",
       "  <tbody>\n",
       "    <tr>\n",
       "      <th>0</th>\n",
       "      <td>2011-01-01 00:00:00</td>\n",
       "      <td>1</td>\n",
       "      <td>0</td>\n",
       "      <td>0</td>\n",
       "      <td>1</td>\n",
       "      <td>9.84</td>\n",
       "      <td>14.395</td>\n",
       "      <td>81</td>\n",
       "      <td>0.0</td>\n",
       "      <td>3</td>\n",
       "      <td>13</td>\n",
       "      <td>16</td>\n",
       "      <td>January</td>\n",
       "      <td>1</td>\n",
       "      <td>5</td>\n",
       "      <td>Saturday</td>\n",
       "      <td>16</td>\n",
       "    </tr>\n",
       "    <tr>\n",
       "      <th>1</th>\n",
       "      <td>2011-01-01 01:00:00</td>\n",
       "      <td>1</td>\n",
       "      <td>0</td>\n",
       "      <td>0</td>\n",
       "      <td>1</td>\n",
       "      <td>9.02</td>\n",
       "      <td>13.635</td>\n",
       "      <td>80</td>\n",
       "      <td>0.0</td>\n",
       "      <td>8</td>\n",
       "      <td>32</td>\n",
       "      <td>40</td>\n",
       "      <td>January</td>\n",
       "      <td>1</td>\n",
       "      <td>5</td>\n",
       "      <td>Saturday</td>\n",
       "      <td>40</td>\n",
       "    </tr>\n",
       "    <tr>\n",
       "      <th>2</th>\n",
       "      <td>2011-01-01 02:00:00</td>\n",
       "      <td>1</td>\n",
       "      <td>0</td>\n",
       "      <td>0</td>\n",
       "      <td>1</td>\n",
       "      <td>9.02</td>\n",
       "      <td>13.635</td>\n",
       "      <td>80</td>\n",
       "      <td>0.0</td>\n",
       "      <td>5</td>\n",
       "      <td>27</td>\n",
       "      <td>32</td>\n",
       "      <td>January</td>\n",
       "      <td>1</td>\n",
       "      <td>5</td>\n",
       "      <td>Saturday</td>\n",
       "      <td>32</td>\n",
       "    </tr>\n",
       "    <tr>\n",
       "      <th>3</th>\n",
       "      <td>2011-01-01 03:00:00</td>\n",
       "      <td>1</td>\n",
       "      <td>0</td>\n",
       "      <td>0</td>\n",
       "      <td>1</td>\n",
       "      <td>9.84</td>\n",
       "      <td>14.395</td>\n",
       "      <td>75</td>\n",
       "      <td>0.0</td>\n",
       "      <td>3</td>\n",
       "      <td>10</td>\n",
       "      <td>13</td>\n",
       "      <td>January</td>\n",
       "      <td>1</td>\n",
       "      <td>5</td>\n",
       "      <td>Saturday</td>\n",
       "      <td>13</td>\n",
       "    </tr>\n",
       "    <tr>\n",
       "      <th>4</th>\n",
       "      <td>2011-01-01 04:00:00</td>\n",
       "      <td>1</td>\n",
       "      <td>0</td>\n",
       "      <td>0</td>\n",
       "      <td>1</td>\n",
       "      <td>9.84</td>\n",
       "      <td>14.395</td>\n",
       "      <td>75</td>\n",
       "      <td>0.0</td>\n",
       "      <td>0</td>\n",
       "      <td>1</td>\n",
       "      <td>1</td>\n",
       "      <td>January</td>\n",
       "      <td>1</td>\n",
       "      <td>5</td>\n",
       "      <td>Saturday</td>\n",
       "      <td>1</td>\n",
       "    </tr>\n",
       "  </tbody>\n",
       "</table>\n",
       "</div>"
      ],
      "text/plain": [
       "             datetime  season  holiday  workingday  weather  temp   atemp  \\\n",
       "0 2011-01-01 00:00:00       1        0           0        1  9.84  14.395   \n",
       "1 2011-01-01 01:00:00       1        0           0        1  9.02  13.635   \n",
       "2 2011-01-01 02:00:00       1        0           0        1  9.02  13.635   \n",
       "3 2011-01-01 03:00:00       1        0           0        1  9.84  14.395   \n",
       "4 2011-01-01 04:00:00       1        0           0        1  9.84  14.395   \n",
       "\n",
       "   humidity  windspeed  casual  registered  count    month  month_num  \\\n",
       "0        81        0.0       3          13     16  January          1   \n",
       "1        80        0.0       8          32     40  January          1   \n",
       "2        80        0.0       5          27     32  January          1   \n",
       "3        75        0.0       3          10     13  January          1   \n",
       "4        75        0.0       0           1      1  January          1   \n",
       "\n",
       "   day_num day_of_week  total_riders  \n",
       "0        5    Saturday            16  \n",
       "1        5    Saturday            40  \n",
       "2        5    Saturday            32  \n",
       "3        5    Saturday            13  \n",
       "4        5    Saturday             1  "
      ]
     },
     "execution_count": 42,
     "metadata": {},
     "output_type": "execute_result"
    }
   ],
   "source": [
    "bike.head()"
   ]
  },
  {
   "cell_type": "code",
   "execution_count": 43,
   "id": "8ce384b7",
   "metadata": {},
   "outputs": [],
   "source": [
    "bike.season = bike.season.map({1:'winter', 2:'spring',3:'summer',4:'fall'})"
   ]
  },
  {
   "cell_type": "code",
   "execution_count": 67,
   "id": "cefc8cb7",
   "metadata": {},
   "outputs": [
    {
     "data": {
      "text/html": [
       "<div>\n",
       "<style scoped>\n",
       "    .dataframe tbody tr th:only-of-type {\n",
       "        vertical-align: middle;\n",
       "    }\n",
       "\n",
       "    .dataframe tbody tr th {\n",
       "        vertical-align: top;\n",
       "    }\n",
       "\n",
       "    .dataframe thead th {\n",
       "        text-align: right;\n",
       "    }\n",
       "</style>\n",
       "<table border=\"1\" class=\"dataframe\">\n",
       "  <thead>\n",
       "    <tr style=\"text-align: right;\">\n",
       "      <th></th>\n",
       "      <th>datetime</th>\n",
       "      <th>season</th>\n",
       "      <th>holiday</th>\n",
       "      <th>workingday</th>\n",
       "      <th>weather</th>\n",
       "      <th>temp</th>\n",
       "      <th>atemp</th>\n",
       "      <th>humidity</th>\n",
       "      <th>windspeed</th>\n",
       "      <th>casual</th>\n",
       "      <th>registered</th>\n",
       "      <th>count</th>\n",
       "      <th>month</th>\n",
       "      <th>month_num</th>\n",
       "      <th>day_num</th>\n",
       "      <th>day_of_week</th>\n",
       "      <th>total_riders</th>\n",
       "      <th>year</th>\n",
       "    </tr>\n",
       "  </thead>\n",
       "  <tbody>\n",
       "    <tr>\n",
       "      <th>0</th>\n",
       "      <td>2011-01-01 00:00:00</td>\n",
       "      <td>winter</td>\n",
       "      <td>0</td>\n",
       "      <td>0</td>\n",
       "      <td>1</td>\n",
       "      <td>9.84</td>\n",
       "      <td>14.395</td>\n",
       "      <td>81</td>\n",
       "      <td>0.0</td>\n",
       "      <td>3</td>\n",
       "      <td>13</td>\n",
       "      <td>16</td>\n",
       "      <td>January</td>\n",
       "      <td>1</td>\n",
       "      <td>5</td>\n",
       "      <td>Saturday</td>\n",
       "      <td>16</td>\n",
       "      <td>2011</td>\n",
       "    </tr>\n",
       "    <tr>\n",
       "      <th>1</th>\n",
       "      <td>2011-01-01 01:00:00</td>\n",
       "      <td>winter</td>\n",
       "      <td>0</td>\n",
       "      <td>0</td>\n",
       "      <td>1</td>\n",
       "      <td>9.02</td>\n",
       "      <td>13.635</td>\n",
       "      <td>80</td>\n",
       "      <td>0.0</td>\n",
       "      <td>8</td>\n",
       "      <td>32</td>\n",
       "      <td>40</td>\n",
       "      <td>January</td>\n",
       "      <td>1</td>\n",
       "      <td>5</td>\n",
       "      <td>Saturday</td>\n",
       "      <td>40</td>\n",
       "      <td>2011</td>\n",
       "    </tr>\n",
       "    <tr>\n",
       "      <th>2</th>\n",
       "      <td>2011-01-01 02:00:00</td>\n",
       "      <td>winter</td>\n",
       "      <td>0</td>\n",
       "      <td>0</td>\n",
       "      <td>1</td>\n",
       "      <td>9.02</td>\n",
       "      <td>13.635</td>\n",
       "      <td>80</td>\n",
       "      <td>0.0</td>\n",
       "      <td>5</td>\n",
       "      <td>27</td>\n",
       "      <td>32</td>\n",
       "      <td>January</td>\n",
       "      <td>1</td>\n",
       "      <td>5</td>\n",
       "      <td>Saturday</td>\n",
       "      <td>32</td>\n",
       "      <td>2011</td>\n",
       "    </tr>\n",
       "    <tr>\n",
       "      <th>3</th>\n",
       "      <td>2011-01-01 03:00:00</td>\n",
       "      <td>winter</td>\n",
       "      <td>0</td>\n",
       "      <td>0</td>\n",
       "      <td>1</td>\n",
       "      <td>9.84</td>\n",
       "      <td>14.395</td>\n",
       "      <td>75</td>\n",
       "      <td>0.0</td>\n",
       "      <td>3</td>\n",
       "      <td>10</td>\n",
       "      <td>13</td>\n",
       "      <td>January</td>\n",
       "      <td>1</td>\n",
       "      <td>5</td>\n",
       "      <td>Saturday</td>\n",
       "      <td>13</td>\n",
       "      <td>2011</td>\n",
       "    </tr>\n",
       "    <tr>\n",
       "      <th>4</th>\n",
       "      <td>2011-01-01 04:00:00</td>\n",
       "      <td>winter</td>\n",
       "      <td>0</td>\n",
       "      <td>0</td>\n",
       "      <td>1</td>\n",
       "      <td>9.84</td>\n",
       "      <td>14.395</td>\n",
       "      <td>75</td>\n",
       "      <td>0.0</td>\n",
       "      <td>0</td>\n",
       "      <td>1</td>\n",
       "      <td>1</td>\n",
       "      <td>January</td>\n",
       "      <td>1</td>\n",
       "      <td>5</td>\n",
       "      <td>Saturday</td>\n",
       "      <td>1</td>\n",
       "      <td>2011</td>\n",
       "    </tr>\n",
       "  </tbody>\n",
       "</table>\n",
       "</div>"
      ],
      "text/plain": [
       "             datetime  season  holiday  workingday  weather  temp   atemp  \\\n",
       "0 2011-01-01 00:00:00  winter        0           0        1  9.84  14.395   \n",
       "1 2011-01-01 01:00:00  winter        0           0        1  9.02  13.635   \n",
       "2 2011-01-01 02:00:00  winter        0           0        1  9.02  13.635   \n",
       "3 2011-01-01 03:00:00  winter        0           0        1  9.84  14.395   \n",
       "4 2011-01-01 04:00:00  winter        0           0        1  9.84  14.395   \n",
       "\n",
       "   humidity  windspeed  casual  registered  count    month  month_num  \\\n",
       "0        81        0.0       3          13     16  January          1   \n",
       "1        80        0.0       8          32     40  January          1   \n",
       "2        80        0.0       5          27     32  January          1   \n",
       "3        75        0.0       3          10     13  January          1   \n",
       "4        75        0.0       0           1      1  January          1   \n",
       "\n",
       "   day_num day_of_week  total_riders  year  \n",
       "0        5    Saturday            16  2011  \n",
       "1        5    Saturday            40  2011  \n",
       "2        5    Saturday            32  2011  \n",
       "3        5    Saturday            13  2011  \n",
       "4        5    Saturday             1  2011  "
      ]
     },
     "execution_count": 67,
     "metadata": {},
     "output_type": "execute_result"
    }
   ],
   "source": [
    "bike.head()"
   ]
  },
  {
   "cell_type": "markdown",
   "id": "52df04a2",
   "metadata": {},
   "source": [
    "## what percent of the riders are registered"
   ]
  },
  {
   "cell_type": "code",
   "execution_count": 46,
   "id": "e89a9dbb",
   "metadata": {},
   "outputs": [
    {
     "data": {
      "text/plain": [
       "81.1968586548107"
      ]
     },
     "execution_count": 46,
     "metadata": {},
     "output_type": "execute_result"
    }
   ],
   "source": [
    "bike.registered.sum()*100/bike.total_riders.sum()"
   ]
  },
  {
   "cell_type": "markdown",
   "id": "a885c8e0",
   "metadata": {},
   "source": [
    "## does the registered rider percentage increase by month over time?"
   ]
  },
  {
   "cell_type": "code",
   "execution_count": 48,
   "id": "090ab5d0",
   "metadata": {},
   "outputs": [
    {
     "data": {
      "text/plain": [
       "season  month    \n",
       "fall    December     145460\n",
       "        November     151087\n",
       "        October      169347\n",
       "spring  April        127589\n",
       "        June         172159\n",
       "        May          158862\n",
       "summer  August       167646\n",
       "        July         163670\n",
       "        September    166628\n",
       "winter  February      89816\n",
       "        January       72632\n",
       "        March        108445\n",
       "Name: registered, dtype: int64"
      ]
     },
     "execution_count": 48,
     "metadata": {},
     "output_type": "execute_result"
    }
   ],
   "source": [
    "bike.groupby(['season','month'])['registered'].sum()"
   ]
  },
  {
   "cell_type": "code",
   "execution_count": 49,
   "id": "fa1b9f09",
   "metadata": {},
   "outputs": [
    {
     "data": {
      "text/plain": [
       "month\n",
       "April        167402\n",
       "August       213516\n",
       "December     160160\n",
       "February      99113\n",
       "January       79884\n",
       "July         214617\n",
       "June         220733\n",
       "March        133501\n",
       "May          200147\n",
       "November     176440\n",
       "October      207434\n",
       "September    212529\n",
       "Name: total_riders, dtype: int64"
      ]
     },
     "execution_count": 49,
     "metadata": {},
     "output_type": "execute_result"
    }
   ],
   "source": [
    "bike.groupby('month')['total_riders'].sum()"
   ]
  },
  {
   "cell_type": "code",
   "execution_count": 51,
   "id": "de3d2c19",
   "metadata": {},
   "outputs": [
    {
     "data": {
      "text/plain": [
       "season  month    \n",
       "fall    December     90.821678\n",
       "        November     85.630809\n",
       "        October      81.638979\n",
       "spring  April        76.217130\n",
       "        June         77.994228\n",
       "        May          79.372661\n",
       "summer  August       78.516832\n",
       "        July         76.261433\n",
       "        September    78.402477\n",
       "winter  February     90.619798\n",
       "        January      90.921837\n",
       "        March        81.231601\n",
       "dtype: float64"
      ]
     },
     "execution_count": 51,
     "metadata": {},
     "output_type": "execute_result"
    }
   ],
   "source": [
    "bike.groupby(['season','month'])['registered'].sum()*100/bike.groupby('month')['total_riders'].sum()"
   ]
  },
  {
   "cell_type": "markdown",
   "id": "28afadbe",
   "metadata": {},
   "source": [
    "## what is the percent of riders by month"
   ]
  },
  {
   "cell_type": "code",
   "execution_count": 54,
   "id": "347ffab9",
   "metadata": {},
   "outputs": [
    {
     "data": {
      "text/plain": [
       "month\n",
       "April        167402\n",
       "August       213516\n",
       "December     160160\n",
       "February      99113\n",
       "January       79884\n",
       "July         214617\n",
       "June         220733\n",
       "March        133501\n",
       "May          200147\n",
       "November     176440\n",
       "October      207434\n",
       "September    212529\n",
       "Name: total_riders, dtype: int64"
      ]
     },
     "execution_count": 54,
     "metadata": {},
     "output_type": "execute_result"
    }
   ],
   "source": [
    "bike.groupby('month')['total_riders'].sum()"
   ]
  },
  {
   "cell_type": "code",
   "execution_count": 55,
   "id": "d76dabd9",
   "metadata": {},
   "outputs": [
    {
     "data": {
      "text/plain": [
       "2085476"
      ]
     },
     "execution_count": 55,
     "metadata": {},
     "output_type": "execute_result"
    }
   ],
   "source": [
    "bike['total_riders'].sum()"
   ]
  },
  {
   "cell_type": "code",
   "execution_count": 56,
   "id": "c509a09a",
   "metadata": {},
   "outputs": [
    {
     "data": {
      "text/plain": [
       "month\n",
       "April         8.027040\n",
       "August       10.238238\n",
       "December      7.679781\n",
       "February      4.752536\n",
       "January       3.830492\n",
       "July         10.291032\n",
       "June         10.584298\n",
       "March         6.401464\n",
       "May           9.597185\n",
       "November      8.460419\n",
       "October       9.946602\n",
       "September    10.190911\n",
       "Name: total_riders, dtype: float64"
      ]
     },
     "execution_count": 56,
     "metadata": {},
     "output_type": "execute_result"
    }
   ],
   "source": [
    "bike.groupby('month')['total_riders'].sum()*100/bike['total_riders'].sum()"
   ]
  },
  {
   "cell_type": "markdown",
   "id": "92a9e04e",
   "metadata": {},
   "source": [
    "## what is the percent of casual riders by month"
   ]
  },
  {
   "cell_type": "code",
   "execution_count": 57,
   "id": "6cbe8d8b",
   "metadata": {},
   "outputs": [
    {
     "data": {
      "text/plain": [
       "season  month    \n",
       "fall    December      9.178322\n",
       "        November     14.369191\n",
       "        October      18.361021\n",
       "spring  April        23.782870\n",
       "        June         22.005772\n",
       "        May          20.627339\n",
       "summer  August       21.483168\n",
       "        July         23.738567\n",
       "        September    21.597523\n",
       "winter  February      9.380202\n",
       "        January       9.078163\n",
       "        March        18.768399\n",
       "dtype: float64"
      ]
     },
     "execution_count": 57,
     "metadata": {},
     "output_type": "execute_result"
    }
   ],
   "source": [
    "bike.groupby(['season','month'])['casual'].sum()*100/bike.groupby('month')['total_riders'].sum()"
   ]
  },
  {
   "cell_type": "code",
   "execution_count": 58,
   "id": "a3a41996",
   "metadata": {},
   "outputs": [
    {
     "data": {
      "text/plain": [
       "month\n",
       "April        10.152881\n",
       "August       11.697502\n",
       "December      3.748709\n",
       "February      2.370867\n",
       "January       1.849363\n",
       "July         12.992209\n",
       "June         12.387061\n",
       "March         6.389636\n",
       "May          10.528262\n",
       "November      6.465375\n",
       "October       9.712726\n",
       "September    11.705408\n",
       "Name: casual, dtype: float64"
      ]
     },
     "execution_count": 58,
     "metadata": {},
     "output_type": "execute_result"
    }
   ],
   "source": [
    "bike.groupby('month')['casual'].sum()*100/bike['casual'].sum()"
   ]
  },
  {
   "cell_type": "markdown",
   "id": "e0965e05",
   "metadata": {},
   "source": [
    "## what is the percent of riders by season"
   ]
  },
  {
   "cell_type": "code",
   "execution_count": 59,
   "id": "f666007b",
   "metadata": {},
   "outputs": [
    {
     "data": {
      "text/plain": [
       "season\n",
       "fall      26.086802\n",
       "spring    28.208524\n",
       "summer    30.720181\n",
       "winter    14.984493\n",
       "Name: total_riders, dtype: float64"
      ]
     },
     "execution_count": 59,
     "metadata": {},
     "output_type": "execute_result"
    }
   ],
   "source": [
    "bike.groupby('season')['total_riders'].sum()*100/bike['total_riders'].sum()"
   ]
  },
  {
   "cell_type": "markdown",
   "id": "85bde67e",
   "metadata": {},
   "source": [
    "## Percent of registered riders on a working day"
   ]
  },
  {
   "cell_type": "code",
   "execution_count": 60,
   "id": "089f41e1",
   "metadata": {},
   "outputs": [
    {
     "data": {
      "text/plain": [
       "workingday\n",
       "0    26.505884\n",
       "1    73.494116\n",
       "Name: registered, dtype: float64"
      ]
     },
     "execution_count": 60,
     "metadata": {},
     "output_type": "execute_result"
    }
   ],
   "source": [
    "bike.groupby('workingday')['registered'].sum()*100/bike['registered'].sum()"
   ]
  },
  {
   "cell_type": "markdown",
   "id": "cbc7eecd",
   "metadata": {},
   "source": [
    "## create a mean month and isolate a single year"
   ]
  },
  {
   "cell_type": "code",
   "execution_count": 64,
   "id": "3e075a04",
   "metadata": {},
   "outputs": [
    {
     "data": {
      "text/plain": [
       "2012    5464\n",
       "2011    5422\n",
       "Name: datetime, dtype: int64"
      ]
     },
     "execution_count": 64,
     "metadata": {},
     "output_type": "execute_result"
    }
   ],
   "source": [
    "bike.year.value_counts()"
   ]
  },
  {
   "cell_type": "code",
   "execution_count": 71,
   "id": "4b8431fa",
   "metadata": {},
   "outputs": [],
   "source": [
    "bike1=bike[bike['year']==2011]"
   ]
  },
  {
   "cell_type": "code",
   "execution_count": 73,
   "id": "c58d1a64",
   "metadata": {},
   "outputs": [],
   "source": [
    "bike1['mean_month'] = bike1['month'].map(bike1.groupby('month')['total_riders'].mean())"
   ]
  },
  {
   "cell_type": "code",
   "execution_count": 74,
   "id": "a7d7a5d9",
   "metadata": {},
   "outputs": [
    {
     "data": {
      "text/html": [
       "<div>\n",
       "<style scoped>\n",
       "    .dataframe tbody tr th:only-of-type {\n",
       "        vertical-align: middle;\n",
       "    }\n",
       "\n",
       "    .dataframe tbody tr th {\n",
       "        vertical-align: top;\n",
       "    }\n",
       "\n",
       "    .dataframe thead th {\n",
       "        text-align: right;\n",
       "    }\n",
       "</style>\n",
       "<table border=\"1\" class=\"dataframe\">\n",
       "  <thead>\n",
       "    <tr style=\"text-align: right;\">\n",
       "      <th></th>\n",
       "      <th>datetime</th>\n",
       "      <th>season</th>\n",
       "      <th>holiday</th>\n",
       "      <th>workingday</th>\n",
       "      <th>weather</th>\n",
       "      <th>temp</th>\n",
       "      <th>atemp</th>\n",
       "      <th>humidity</th>\n",
       "      <th>windspeed</th>\n",
       "      <th>casual</th>\n",
       "      <th>registered</th>\n",
       "      <th>count</th>\n",
       "      <th>month</th>\n",
       "      <th>month_num</th>\n",
       "      <th>day_num</th>\n",
       "      <th>day_of_week</th>\n",
       "      <th>total_riders</th>\n",
       "      <th>year</th>\n",
       "      <th>mean_month</th>\n",
       "    </tr>\n",
       "  </thead>\n",
       "  <tbody>\n",
       "    <tr>\n",
       "      <th>0</th>\n",
       "      <td>2011-01-01 00:00:00</td>\n",
       "      <td>winter</td>\n",
       "      <td>0</td>\n",
       "      <td>0</td>\n",
       "      <td>1</td>\n",
       "      <td>9.84</td>\n",
       "      <td>14.395</td>\n",
       "      <td>81</td>\n",
       "      <td>0.0</td>\n",
       "      <td>3</td>\n",
       "      <td>13</td>\n",
       "      <td>16</td>\n",
       "      <td>January</td>\n",
       "      <td>1</td>\n",
       "      <td>5</td>\n",
       "      <td>Saturday</td>\n",
       "      <td>16</td>\n",
       "      <td>2011</td>\n",
       "      <td>54.645012</td>\n",
       "    </tr>\n",
       "    <tr>\n",
       "      <th>1</th>\n",
       "      <td>2011-01-01 01:00:00</td>\n",
       "      <td>winter</td>\n",
       "      <td>0</td>\n",
       "      <td>0</td>\n",
       "      <td>1</td>\n",
       "      <td>9.02</td>\n",
       "      <td>13.635</td>\n",
       "      <td>80</td>\n",
       "      <td>0.0</td>\n",
       "      <td>8</td>\n",
       "      <td>32</td>\n",
       "      <td>40</td>\n",
       "      <td>January</td>\n",
       "      <td>1</td>\n",
       "      <td>5</td>\n",
       "      <td>Saturday</td>\n",
       "      <td>40</td>\n",
       "      <td>2011</td>\n",
       "      <td>54.645012</td>\n",
       "    </tr>\n",
       "    <tr>\n",
       "      <th>2</th>\n",
       "      <td>2011-01-01 02:00:00</td>\n",
       "      <td>winter</td>\n",
       "      <td>0</td>\n",
       "      <td>0</td>\n",
       "      <td>1</td>\n",
       "      <td>9.02</td>\n",
       "      <td>13.635</td>\n",
       "      <td>80</td>\n",
       "      <td>0.0</td>\n",
       "      <td>5</td>\n",
       "      <td>27</td>\n",
       "      <td>32</td>\n",
       "      <td>January</td>\n",
       "      <td>1</td>\n",
       "      <td>5</td>\n",
       "      <td>Saturday</td>\n",
       "      <td>32</td>\n",
       "      <td>2011</td>\n",
       "      <td>54.645012</td>\n",
       "    </tr>\n",
       "    <tr>\n",
       "      <th>3</th>\n",
       "      <td>2011-01-01 03:00:00</td>\n",
       "      <td>winter</td>\n",
       "      <td>0</td>\n",
       "      <td>0</td>\n",
       "      <td>1</td>\n",
       "      <td>9.84</td>\n",
       "      <td>14.395</td>\n",
       "      <td>75</td>\n",
       "      <td>0.0</td>\n",
       "      <td>3</td>\n",
       "      <td>10</td>\n",
       "      <td>13</td>\n",
       "      <td>January</td>\n",
       "      <td>1</td>\n",
       "      <td>5</td>\n",
       "      <td>Saturday</td>\n",
       "      <td>13</td>\n",
       "      <td>2011</td>\n",
       "      <td>54.645012</td>\n",
       "    </tr>\n",
       "    <tr>\n",
       "      <th>4</th>\n",
       "      <td>2011-01-01 04:00:00</td>\n",
       "      <td>winter</td>\n",
       "      <td>0</td>\n",
       "      <td>0</td>\n",
       "      <td>1</td>\n",
       "      <td>9.84</td>\n",
       "      <td>14.395</td>\n",
       "      <td>75</td>\n",
       "      <td>0.0</td>\n",
       "      <td>0</td>\n",
       "      <td>1</td>\n",
       "      <td>1</td>\n",
       "      <td>January</td>\n",
       "      <td>1</td>\n",
       "      <td>5</td>\n",
       "      <td>Saturday</td>\n",
       "      <td>1</td>\n",
       "      <td>2011</td>\n",
       "      <td>54.645012</td>\n",
       "    </tr>\n",
       "  </tbody>\n",
       "</table>\n",
       "</div>"
      ],
      "text/plain": [
       "             datetime  season  holiday  workingday  weather  temp   atemp  \\\n",
       "0 2011-01-01 00:00:00  winter        0           0        1  9.84  14.395   \n",
       "1 2011-01-01 01:00:00  winter        0           0        1  9.02  13.635   \n",
       "2 2011-01-01 02:00:00  winter        0           0        1  9.02  13.635   \n",
       "3 2011-01-01 03:00:00  winter        0           0        1  9.84  14.395   \n",
       "4 2011-01-01 04:00:00  winter        0           0        1  9.84  14.395   \n",
       "\n",
       "   humidity  windspeed  casual  registered  count    month  month_num  \\\n",
       "0        81        0.0       3          13     16  January          1   \n",
       "1        80        0.0       8          32     40  January          1   \n",
       "2        80        0.0       5          27     32  January          1   \n",
       "3        75        0.0       3          10     13  January          1   \n",
       "4        75        0.0       0           1      1  January          1   \n",
       "\n",
       "   day_num day_of_week  total_riders  year  mean_month  \n",
       "0        5    Saturday            16  2011   54.645012  \n",
       "1        5    Saturday            40  2011   54.645012  \n",
       "2        5    Saturday            32  2011   54.645012  \n",
       "3        5    Saturday            13  2011   54.645012  \n",
       "4        5    Saturday             1  2011   54.645012  "
      ]
     },
     "execution_count": 74,
     "metadata": {},
     "output_type": "execute_result"
    }
   ],
   "source": [
    "bike1.head()"
   ]
  },
  {
   "cell_type": "markdown",
   "id": "79293a86",
   "metadata": {},
   "source": [
    "## check out the average total riders by month"
   ]
  },
  {
   "cell_type": "code",
   "execution_count": 77,
   "id": "1c103259",
   "metadata": {},
   "outputs": [
    {
     "data": {
      "text/plain": [
       "month\n",
       "April        184.160616\n",
       "August       234.118421\n",
       "December     175.614035\n",
       "February     110.003330\n",
       "January       90.366516\n",
       "July         235.325658\n",
       "June         242.031798\n",
       "March        148.169811\n",
       "May          219.459430\n",
       "November     193.677278\n",
       "October      227.699232\n",
       "September    233.805281\n",
       "Name: total_riders, dtype: float64"
      ]
     },
     "execution_count": 77,
     "metadata": {},
     "output_type": "execute_result"
    }
   ],
   "source": [
    "bike.groupby('month')['total_riders'].mean()"
   ]
  },
  {
   "cell_type": "markdown",
   "id": "f09518f9",
   "metadata": {},
   "source": [
    "## create a month dictionary for the visual below"
   ]
  },
  {
   "cell_type": "code",
   "execution_count": 79,
   "id": "acd529ad",
   "metadata": {},
   "outputs": [
    {
     "data": {
      "text/plain": [
       "array(['January', 'February', 'March', 'April', 'May', 'June', 'July',\n",
       "       'August', 'September', 'October', 'November', 'December'],\n",
       "      dtype=object)"
      ]
     },
     "execution_count": 79,
     "metadata": {},
     "output_type": "execute_result"
    }
   ],
   "source": [
    "bike['month'].unique()"
   ]
  },
  {
   "cell_type": "code",
   "execution_count": 82,
   "id": "b0c2932f",
   "metadata": {},
   "outputs": [],
   "source": [
    "month_dic=[]\n",
    "\n",
    "for i in enumerate(bike['month'].unique(), 1):\n",
    "    month_dic.append(i)\n",
    "month_dic = dict(month_dic)"
   ]
  },
  {
   "cell_type": "code",
   "execution_count": 83,
   "id": "e93fca82",
   "metadata": {},
   "outputs": [
    {
     "data": {
      "text/plain": [
       "{1: 'January',\n",
       " 2: 'February',\n",
       " 3: 'March',\n",
       " 4: 'April',\n",
       " 5: 'May',\n",
       " 6: 'June',\n",
       " 7: 'July',\n",
       " 8: 'August',\n",
       " 9: 'September',\n",
       " 10: 'October',\n",
       " 11: 'November',\n",
       " 12: 'December'}"
      ]
     },
     "execution_count": 83,
     "metadata": {},
     "output_type": "execute_result"
    }
   ],
   "source": [
    "month_dic"
   ]
  },
  {
   "cell_type": "markdown",
   "id": "fa9474a7",
   "metadata": {},
   "source": [
    "# Visualization"
   ]
  },
  {
   "cell_type": "markdown",
   "id": "d0501dde",
   "metadata": {},
   "source": [
    "### Create a Ridge Plot"
   ]
  },
  {
   "cell_type": "code",
   "execution_count": 103,
   "id": "91d55360",
   "metadata": {},
   "outputs": [
    {
     "data": {
      "image/png": "[encoded data removed]",
      "text/plain": [
       "<Figure size 600x480 with 12 Axes>"
      ]
     },
     "metadata": {},
     "output_type": "display_data"
    }
   ],
   "source": [
    "#color palette with Seaborn. color_palette ()\n",
    "\n",
    "pal = sns.color_palette(palette='seismic',n_colors=10)\n",
    "\n",
    "# in the sns.FacetGrid class, the 'hue' argument is the one that with the mean month\n",
    "\n",
    "g = sns.FacetGrid(bike1, row='month', aspect=15, height=0.4,hue= 'mean_month', palette=pal)\n",
    "\n",
    "# adding the densities kdeplots for each month\n",
    "\n",
    "g.map(sns.kdeplot, 'temp',fill=True, lw=1)\n",
    "\n",
    "# adding a Liner graph for the outline\n",
    "\n",
    "g.map(sns.kdeplot,'temp', lw=2, color='grey')\n",
    "\n",
    "\n",
    "#Use the facet grid axes (g.axes.flat) and add the month as text with the righ \n",
    "for i, ax in enumerate(g.axes.flat):\n",
    "    ax.text(-25, 0.02, month_dic[i+1],fontweight='bold', fontsize=15)\n",
    "    \n",
    "    \n",
    "#adjust the plots so they overlap \n",
    "g.fig.subplots_adjust(hspace=-0.3)\n",
    "\n",
    "# Remove axes titles, yticks and spines\n",
    "g.set_titles(\"\")\n",
    "g.set(yticks=[])\n",
    "g.despine(bottom=True, left=True) \n",
    "g.set_xlabels(\"\") \n",
    "g.set_ylabels(\"\")\n",
    "plt.setp(ax.get_xticklabels(), fontsize=15, fontweight='bold') \n",
    "plt.xlabel('Temperature in degree Celsius' , fontweight='bold', fontsize=10)\n",
    "g.fig.subplots_adjust(top=0.9)\n",
    "g.fig.suptitle('Temp Distribution and Rider Aggregation', fontweight='bold')\n",
    "\n",
    "plt.show()"
   ]
  },
  {
   "cell_type": "markdown",
   "id": "2963a53a",
   "metadata": {},
   "source": [
    "## create correlation plot"
   ]
  },
  {
   "cell_type": "code",
   "execution_count": 101,
   "id": "8d06240d",
   "metadata": {},
   "outputs": [
    {
     "data": {
      "text/html": [
       "<div>\n",
       "<style scoped>\n",
       "    .dataframe tbody tr th:only-of-type {\n",
       "        vertical-align: middle;\n",
       "    }\n",
       "\n",
       "    .dataframe tbody tr th {\n",
       "        vertical-align: top;\n",
       "    }\n",
       "\n",
       "    .dataframe thead th {\n",
       "        text-align: right;\n",
       "    }\n",
       "</style>\n",
       "<table border=\"1\" class=\"dataframe\">\n",
       "  <thead>\n",
       "    <tr style=\"text-align: right;\">\n",
       "      <th></th>\n",
       "      <th>holiday</th>\n",
       "      <th>workingday</th>\n",
       "      <th>weather</th>\n",
       "      <th>temp</th>\n",
       "      <th>atemp</th>\n",
       "      <th>humidity</th>\n",
       "      <th>windspeed</th>\n",
       "      <th>casual</th>\n",
       "      <th>registered</th>\n",
       "      <th>count</th>\n",
       "      <th>month_num</th>\n",
       "      <th>day_num</th>\n",
       "      <th>total_riders</th>\n",
       "      <th>year</th>\n",
       "    </tr>\n",
       "  </thead>\n",
       "  <tbody>\n",
       "    <tr>\n",
       "      <th>holiday</th>\n",
       "      <td>1.000000</td>\n",
       "      <td>-0.250491</td>\n",
       "      <td>-0.007074</td>\n",
       "      <td>0.000295</td>\n",
       "      <td>-0.005215</td>\n",
       "      <td>0.001929</td>\n",
       "      <td>0.008409</td>\n",
       "      <td>0.043799</td>\n",
       "      <td>-0.020956</td>\n",
       "      <td>-0.005393</td>\n",
       "      <td>0.001731</td>\n",
       "      <td>-0.191832</td>\n",
       "      <td>-0.005393</td>\n",
       "      <td>0.012021</td>\n",
       "    </tr>\n",
       "    <tr>\n",
       "      <th>workingday</th>\n",
       "      <td>-0.250491</td>\n",
       "      <td>1.000000</td>\n",
       "      <td>0.033772</td>\n",
       "      <td>0.029966</td>\n",
       "      <td>0.024660</td>\n",
       "      <td>-0.010880</td>\n",
       "      <td>0.013373</td>\n",
       "      <td>-0.319111</td>\n",
       "      <td>0.119460</td>\n",
       "      <td>0.011594</td>\n",
       "      <td>-0.003394</td>\n",
       "      <td>-0.704267</td>\n",
       "      <td>0.011594</td>\n",
       "      <td>-0.002482</td>\n",
       "    </tr>\n",
       "    <tr>\n",
       "      <th>weather</th>\n",
       "      <td>-0.007074</td>\n",
       "      <td>0.033772</td>\n",
       "      <td>1.000000</td>\n",
       "      <td>-0.055035</td>\n",
       "      <td>-0.055376</td>\n",
       "      <td>0.406244</td>\n",
       "      <td>0.007261</td>\n",
       "      <td>-0.135918</td>\n",
       "      <td>-0.109340</td>\n",
       "      <td>-0.128655</td>\n",
       "      <td>0.012144</td>\n",
       "      <td>-0.047692</td>\n",
       "      <td>-0.128655</td>\n",
       "      <td>-0.012548</td>\n",
       "    </tr>\n",
       "    <tr>\n",
       "      <th>temp</th>\n",
       "      <td>0.000295</td>\n",
       "      <td>0.029966</td>\n",
       "      <td>-0.055035</td>\n",
       "      <td>1.000000</td>\n",
       "      <td>0.984948</td>\n",
       "      <td>-0.064949</td>\n",
       "      <td>-0.017852</td>\n",
       "      <td>0.467097</td>\n",
       "      <td>0.318571</td>\n",
       "      <td>0.394454</td>\n",
       "      <td>0.257589</td>\n",
       "      <td>-0.038466</td>\n",
       "      <td>0.394454</td>\n",
       "      <td>0.061226</td>\n",
       "    </tr>\n",
       "    <tr>\n",
       "      <th>atemp</th>\n",
       "      <td>-0.005215</td>\n",
       "      <td>0.024660</td>\n",
       "      <td>-0.055376</td>\n",
       "      <td>0.984948</td>\n",
       "      <td>1.000000</td>\n",
       "      <td>-0.043536</td>\n",
       "      <td>-0.057473</td>\n",
       "      <td>0.462067</td>\n",
       "      <td>0.314635</td>\n",
       "      <td>0.389784</td>\n",
       "      <td>0.264173</td>\n",
       "      <td>-0.040235</td>\n",
       "      <td>0.389784</td>\n",
       "      <td>0.058540</td>\n",
       "    </tr>\n",
       "    <tr>\n",
       "      <th>humidity</th>\n",
       "      <td>0.001929</td>\n",
       "      <td>-0.010880</td>\n",
       "      <td>0.406244</td>\n",
       "      <td>-0.064949</td>\n",
       "      <td>-0.043536</td>\n",
       "      <td>1.000000</td>\n",
       "      <td>-0.318607</td>\n",
       "      <td>-0.348187</td>\n",
       "      <td>-0.265458</td>\n",
       "      <td>-0.317371</td>\n",
       "      <td>0.204537</td>\n",
       "      <td>-0.026507</td>\n",
       "      <td>-0.317371</td>\n",
       "      <td>-0.078606</td>\n",
       "    </tr>\n",
       "    <tr>\n",
       "      <th>windspeed</th>\n",
       "      <td>0.008409</td>\n",
       "      <td>0.013373</td>\n",
       "      <td>0.007261</td>\n",
       "      <td>-0.017852</td>\n",
       "      <td>-0.057473</td>\n",
       "      <td>-0.318607</td>\n",
       "      <td>1.000000</td>\n",
       "      <td>0.092276</td>\n",
       "      <td>0.091052</td>\n",
       "      <td>0.101369</td>\n",
       "      <td>-0.150192</td>\n",
       "      <td>-0.024804</td>\n",
       "      <td>0.101369</td>\n",
       "      <td>-0.015221</td>\n",
       "    </tr>\n",
       "    <tr>\n",
       "      <th>casual</th>\n",
       "      <td>0.043799</td>\n",
       "      <td>-0.319111</td>\n",
       "      <td>-0.135918</td>\n",
       "      <td>0.467097</td>\n",
       "      <td>0.462067</td>\n",
       "      <td>-0.348187</td>\n",
       "      <td>0.092276</td>\n",
       "      <td>1.000000</td>\n",
       "      <td>0.497250</td>\n",
       "      <td>0.690414</td>\n",
       "      <td>0.092722</td>\n",
       "      <td>0.246959</td>\n",
       "      <td>0.690414</td>\n",
       "      <td>0.145241</td>\n",
       "    </tr>\n",
       "    <tr>\n",
       "      <th>registered</th>\n",
       "      <td>-0.020956</td>\n",
       "      <td>0.119460</td>\n",
       "      <td>-0.109340</td>\n",
       "      <td>0.318571</td>\n",
       "      <td>0.314635</td>\n",
       "      <td>-0.265458</td>\n",
       "      <td>0.091052</td>\n",
       "      <td>0.497250</td>\n",
       "      <td>1.000000</td>\n",
       "      <td>0.970948</td>\n",
       "      <td>0.169451</td>\n",
       "      <td>-0.084427</td>\n",
       "      <td>0.970948</td>\n",
       "      <td>0.264265</td>\n",
       "    </tr>\n",
       "    <tr>\n",
       "      <th>count</th>\n",
       "      <td>-0.005393</td>\n",
       "      <td>0.011594</td>\n",
       "      <td>-0.128655</td>\n",
       "      <td>0.394454</td>\n",
       "      <td>0.389784</td>\n",
       "      <td>-0.317371</td>\n",
       "      <td>0.101369</td>\n",
       "      <td>0.690414</td>\n",
       "      <td>0.970948</td>\n",
       "      <td>1.000000</td>\n",
       "      <td>0.166862</td>\n",
       "      <td>-0.002283</td>\n",
       "      <td>1.000000</td>\n",
       "      <td>0.260403</td>\n",
       "    </tr>\n",
       "    <tr>\n",
       "      <th>month_num</th>\n",
       "      <td>0.001731</td>\n",
       "      <td>-0.003394</td>\n",
       "      <td>0.012144</td>\n",
       "      <td>0.257589</td>\n",
       "      <td>0.264173</td>\n",
       "      <td>0.204537</td>\n",
       "      <td>-0.150192</td>\n",
       "      <td>0.092722</td>\n",
       "      <td>0.169451</td>\n",
       "      <td>0.166862</td>\n",
       "      <td>1.000000</td>\n",
       "      <td>-0.002266</td>\n",
       "      <td>0.166862</td>\n",
       "      <td>-0.004932</td>\n",
       "    </tr>\n",
       "    <tr>\n",
       "      <th>day_num</th>\n",
       "      <td>-0.191832</td>\n",
       "      <td>-0.704267</td>\n",
       "      <td>-0.047692</td>\n",
       "      <td>-0.038466</td>\n",
       "      <td>-0.040235</td>\n",
       "      <td>-0.026507</td>\n",
       "      <td>-0.024804</td>\n",
       "      <td>0.246959</td>\n",
       "      <td>-0.084427</td>\n",
       "      <td>-0.002283</td>\n",
       "      <td>-0.002266</td>\n",
       "      <td>1.000000</td>\n",
       "      <td>-0.002283</td>\n",
       "      <td>-0.003785</td>\n",
       "    </tr>\n",
       "    <tr>\n",
       "      <th>total_riders</th>\n",
       "      <td>-0.005393</td>\n",
       "      <td>0.011594</td>\n",
       "      <td>-0.128655</td>\n",
       "      <td>0.394454</td>\n",
       "      <td>0.389784</td>\n",
       "      <td>-0.317371</td>\n",
       "      <td>0.101369</td>\n",
       "      <td>0.690414</td>\n",
       "      <td>0.970948</td>\n",
       "      <td>1.000000</td>\n",
       "      <td>0.166862</td>\n",
       "      <td>-0.002283</td>\n",
       "      <td>1.000000</td>\n",
       "      <td>0.260403</td>\n",
       "    </tr>\n",
       "    <tr>\n",
       "      <th>year</th>\n",
       "      <td>0.012021</td>\n",
       "      <td>-0.002482</td>\n",
       "      <td>-0.012548</td>\n",
       "      <td>0.061226</td>\n",
       "      <td>0.058540</td>\n",
       "      <td>-0.078606</td>\n",
       "      <td>-0.015221</td>\n",
       "      <td>0.145241</td>\n",
       "      <td>0.264265</td>\n",
       "      <td>0.260403</td>\n",
       "      <td>-0.004932</td>\n",
       "      <td>-0.003785</td>\n",
       "      <td>0.260403</td>\n",
       "      <td>1.000000</td>\n",
       "    </tr>\n",
       "  </tbody>\n",
       "</table>\n",
       "</div>"
      ],
      "text/plain": [
       "               holiday  workingday   weather      temp     atemp  humidity  \\\n",
       "holiday       1.000000   -0.250491 -0.007074  0.000295 -0.005215  0.001929   \n",
       "workingday   -0.250491    1.000000  0.033772  0.029966  0.024660 -0.010880   \n",
       "weather      -0.007074    0.033772  1.000000 -0.055035 -0.055376  0.406244   \n",
       "temp          0.000295    0.029966 -0.055035  1.000000  0.984948 -0.064949   \n",
       "atemp        -0.005215    0.024660 -0.055376  0.984948  1.000000 -0.043536   \n",
       "humidity      0.001929   -0.010880  0.406244 -0.064949 -0.043536  1.000000   \n",
       "windspeed     0.008409    0.013373  0.007261 -0.017852 -0.057473 -0.318607   \n",
       "casual        0.043799   -0.319111 -0.135918  0.467097  0.462067 -0.348187   \n",
       "registered   -0.020956    0.119460 -0.109340  0.318571  0.314635 -0.265458   \n",
       "count        -0.005393    0.011594 -0.128655  0.394454  0.389784 -0.317371   \n",
       "month_num     0.001731   -0.003394  0.012144  0.257589  0.264173  0.204537   \n",
       "day_num      -0.191832   -0.704267 -0.047692 -0.038466 -0.040235 -0.026507   \n",
       "total_riders -0.005393    0.011594 -0.128655  0.394454  0.389784 -0.317371   \n",
       "year          0.012021   -0.002482 -0.012548  0.061226  0.058540 -0.078606   \n",
       "\n",
       "              windspeed    casual  registered     count  month_num   day_num  \\\n",
       "holiday        0.008409  0.043799   -0.020956 -0.005393   0.001731 -0.191832   \n",
       "workingday     0.013373 -0.319111    0.119460  0.011594  -0.003394 -0.704267   \n",
       "weather        0.007261 -0.135918   -0.109340 -0.128655   0.012144 -0.047692   \n",
       "temp          -0.017852  0.467097    0.318571  0.394454   0.257589 -0.038466   \n",
       "atemp         -0.057473  0.462067    0.314635  0.389784   0.264173 -0.040235   \n",
       "humidity      -0.318607 -0.348187   -0.265458 -0.317371   0.204537 -0.026507   \n",
       "windspeed      1.000000  0.092276    0.091052  0.101369  -0.150192 -0.024804   \n",
       "casual         0.092276  1.000000    0.497250  0.690414   0.092722  0.246959   \n",
       "registered     0.091052  0.497250    1.000000  0.970948   0.169451 -0.084427   \n",
       "count          0.101369  0.690414    0.970948  1.000000   0.166862 -0.002283   \n",
       "month_num     -0.150192  0.092722    0.169451  0.166862   1.000000 -0.002266   \n",
       "day_num       -0.024804  0.246959   -0.084427 -0.002283  -0.002266  1.000000   \n",
       "total_riders   0.101369  0.690414    0.970948  1.000000   0.166862 -0.002283   \n",
       "year          -0.015221  0.145241    0.264265  0.260403  -0.004932 -0.003785   \n",
       "\n",
       "              total_riders      year  \n",
       "holiday          -0.005393  0.012021  \n",
       "workingday        0.011594 -0.002482  \n",
       "weather          -0.128655 -0.012548  \n",
       "temp              0.394454  0.061226  \n",
       "atemp             0.389784  0.058540  \n",
       "humidity         -0.317371 -0.078606  \n",
       "windspeed         0.101369 -0.015221  \n",
       "casual            0.690414  0.145241  \n",
       "registered        0.970948  0.264265  \n",
       "count             1.000000  0.260403  \n",
       "month_num         0.166862 -0.004932  \n",
       "day_num          -0.002283 -0.003785  \n",
       "total_riders      1.000000  0.260403  \n",
       "year              0.260403  1.000000  "
      ]
     },
     "execution_count": 101,
     "metadata": {},
     "output_type": "execute_result"
    }
   ],
   "source": [
    "bike.corr()"
   ]
  },
  {
   "cell_type": "code",
   "execution_count": 108,
   "id": "1acc130e",
   "metadata": {},
   "outputs": [
    {
     "data": {
      "image/png": "[encoded data removed]",
      "text/plain": [
       "<Figure size 640x480 with 2 Axes>"
      ]
     },
     "metadata": {},
     "output_type": "display_data"
    }
   ],
   "source": [
    "plt.show()\n",
    "sns.heatmap(bike.corr());\n"
   ]
  },
  {
   "cell_type": "markdown",
   "id": "c487ba6a",
   "metadata": {},
   "source": [
    "## isolate the correlation to only the riders"
   ]
  },
  {
   "cell_type": "code",
   "execution_count": 117,
   "id": "b9ee7a96",
   "metadata": {},
   "outputs": [
    {
     "data": {
      "image/png": "[encoded data removed]",
      "text/plain": [
       "<Figure size 300x500 with 2 Axes>"
      ]
     },
     "metadata": {},
     "output_type": "display_data"
    }
   ],
   "source": [
    "plt.figure(figsize=(3,5))\n",
    "\n",
    "sns.heatmap(bike.corr()[['total_riders']].sort_values(by='total_riders')\n",
    "                .drop(['total_riders','count','atemp',\n",
    "                        'registered', 'casual', 'year']), \n",
    "            linewidths=1, annot=True, cmap='Blues');\n",
    "plt.title('Overall Correlation')\n",
    "plt.show()"
   ]
  },
  {
   "cell_type": "code",
   "execution_count": null,
   "id": "62d03b4c",
   "metadata": {},
   "outputs": [],
   "source": []
  }
 ],
 "metadata": {
  "kernelspec": {
   "display_name": "Python 3 (ipykernel)",
   "language": "python",
   "name": "python3"
  },
  "language_info": {
   "codemirror_mode": {
    "name": "ipython",
    "version": 3
   },
   "file_extension": ".py",
   "mimetype": "text/x-python",
   "name": "python",
   "nbconvert_exporter": "python",
   "pygments_lexer": "ipython3",
   "version": "3.9.13"
  }
 },
 "nbformat": 4,
 "nbformat_minor": 5
}
